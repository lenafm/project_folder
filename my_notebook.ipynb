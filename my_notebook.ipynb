{
 "cells": [
  {
   "cell_type": "code",
   "execution_count": null,
   "id": "22610aa0-ff7b-426a-95d9-2a580fb9dd95",
   "metadata": {},
   "outputs": [],
   "source": [
    "from helper_functions.helper import sum_of_even_numbers"
   ]
  },
  {
   "cell_type": "code",
   "execution_count": null,
   "id": "3a2995fc-f6c3-4070-8871-f33fe7086d2a",
   "metadata": {},
   "outputs": [],
   "source": []
  }
 ],
 "metadata": {
  "kernelspec": {
   "display_name": "Python 3 (ipykernel)",
   "language": "python",
   "name": "python3"
  },
  "language_info": {
   "codemirror_mode": {
    "name": "ipython",
    "version": 3
   },
   "file_extension": ".py",
   "mimetype": "text/x-python",
   "name": "python",
   "nbconvert_exporter": "python",
   "pygments_lexer": "ipython3",
   "version": "3.11.8"
  }
 },
 "nbformat": 4,
 "nbformat_minor": 5
}